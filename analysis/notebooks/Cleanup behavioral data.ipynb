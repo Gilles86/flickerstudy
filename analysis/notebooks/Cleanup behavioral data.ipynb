{
 "cells": [
  {
   "cell_type": "code",
   "execution_count": 49,
   "metadata": {},
   "outputs": [],
   "source": [
    "import glob\n",
    "import re\n",
    "import shutil\n",
    "import os.path as op\n",
    "import pandas as pd"
   ]
  },
  {
   "cell_type": "code",
   "execution_count": 50,
   "metadata": {},
   "outputs": [],
   "source": [
    "reg = re.compile('.*/sub-tk\\.2019.05.29.(?P<time>[0-9.]+)_(?P<type>.+)\\.(?P<extension>.+)')"
   ]
  },
  {
   "cell_type": "code",
   "execution_count": 51,
   "metadata": {},
   "outputs": [],
   "source": [
    "path = '/data/flicker/sourcedata/sub-tk/ses-flicker1/behavior/'"
   ]
  },
  {
   "cell_type": "code",
   "execution_count": 52,
   "metadata": {},
   "outputs": [],
   "source": [
    "fns = glob.glob(op.join(path, '*'))\n",
    "\n",
    "fns = [fn for fn in fns if not op.isdir(fn)]"
   ]
  },
  {
   "cell_type": "code",
   "execution_count": 53,
   "metadata": {},
   "outputs": [
    {
     "data": {
      "text/plain": [
       "'/data/flicker/sourcedata/sub-tk/ses-flicker1/behavior/sub-tk_ses-flicker1_task-flicker1_acq-0p93_run-01_events.tsv'"
      ]
     },
     "execution_count": 53,
     "metadata": {},
     "output_type": "execute_result"
    }
   ],
   "source": [
    "fn"
   ]
  },
  {
   "cell_type": "code",
   "execution_count": 54,
   "metadata": {},
   "outputs": [],
   "source": [
    "df = []\n",
    "\n",
    "for fn in fns:\n",
    "    if reg.match(fn):\n",
    "        d = reg.match(fn).groupdict()\n",
    "        d['fn'] = fn\n",
    "        df.append(d)"
   ]
  },
  {
   "cell_type": "code",
   "execution_count": 55,
   "metadata": {},
   "outputs": [],
   "source": [
    "df = pd.DataFrame(df)"
   ]
  },
  {
   "cell_type": "code",
   "execution_count": 56,
   "metadata": {},
   "outputs": [],
   "source": [
    "df['run'] = df['time'].apply(lambda x: df['time'].unique().tolist().index(x) + 1)"
   ]
  },
  {
   "cell_type": "code",
   "execution_count": 58,
   "metadata": {},
   "outputs": [
    {
     "name": "stdout",
     "output_type": "stream",
     "text": [
      "/data/flicker/sourcedata/sub-tk/ses-flicker1/behavior/sub-tk.2019.05.29.18.29.06_events.tsv /data/flicker/sourcedata/sub-tk/ses-flicker1/behavior/sub-tk_ses-flicker1_task-flicker1_acq-0p93_run-01_events.tsv\n",
      "/data/flicker/sourcedata/sub-tk/ses-flicker1/behavior/sub-tk.2019.05.29.18.29.06_expsettings.yml /data/flicker/sourcedata/sub-tk/ses-flicker1/behavior/sub-tk_ses-flicker1_task-flicker1_acq-0p93_run-01_expsettings.yml\n",
      "/data/flicker/sourcedata/sub-tk/ses-flicker1/behavior/sub-tk.2019.05.29.18.29.06_frames.png /data/flicker/sourcedata/sub-tk/ses-flicker1/behavior/sub-tk_ses-flicker1_task-flicker1_acq-0p93_run-01_frames.png\n",
      "/data/flicker/sourcedata/sub-tk/ses-flicker1/behavior/sub-tk.2019.05.29.18.29.06_log.txt /data/flicker/sourcedata/sub-tk/ses-flicker1/behavior/sub-tk_ses-flicker1_task-flicker1_acq-0p93_run-01_log.txt\n",
      "/data/flicker/sourcedata/sub-tk/ses-flicker1/behavior/sub-tk.2019.05.29.18.42.31_events.tsv /data/flicker/sourcedata/sub-tk/ses-flicker1/behavior/sub-tk_ses-flicker1_task-flicker1_acq-0p93_run-02_events.tsv\n",
      "/data/flicker/sourcedata/sub-tk/ses-flicker1/behavior/sub-tk.2019.05.29.18.42.31_expsettings.yml /data/flicker/sourcedata/sub-tk/ses-flicker1/behavior/sub-tk_ses-flicker1_task-flicker1_acq-0p93_run-02_expsettings.yml\n",
      "/data/flicker/sourcedata/sub-tk/ses-flicker1/behavior/sub-tk.2019.05.29.18.42.31_frames.png /data/flicker/sourcedata/sub-tk/ses-flicker1/behavior/sub-tk_ses-flicker1_task-flicker1_acq-0p93_run-02_frames.png\n",
      "/data/flicker/sourcedata/sub-tk/ses-flicker1/behavior/sub-tk.2019.05.29.18.42.31_log.txt /data/flicker/sourcedata/sub-tk/ses-flicker1/behavior/sub-tk_ses-flicker1_task-flicker1_acq-0p93_run-02_log.txt\n",
      "/data/flicker/sourcedata/sub-tk/ses-flicker1/behavior/sub-tk.2019.05.29.18.49.16_events.tsv /data/flicker/sourcedata/sub-tk/ses-flicker1/behavior/sub-tk_ses-flicker1_task-flicker1_acq-0p93_run-03_events.tsv\n",
      "/data/flicker/sourcedata/sub-tk/ses-flicker1/behavior/sub-tk.2019.05.29.18.49.16_expsettings.yml /data/flicker/sourcedata/sub-tk/ses-flicker1/behavior/sub-tk_ses-flicker1_task-flicker1_acq-0p93_run-03_expsettings.yml\n",
      "/data/flicker/sourcedata/sub-tk/ses-flicker1/behavior/sub-tk.2019.05.29.18.49.16_frames.png /data/flicker/sourcedata/sub-tk/ses-flicker1/behavior/sub-tk_ses-flicker1_task-flicker1_acq-0p93_run-03_frames.png\n",
      "/data/flicker/sourcedata/sub-tk/ses-flicker1/behavior/sub-tk.2019.05.29.18.49.16_log.txt /data/flicker/sourcedata/sub-tk/ses-flicker1/behavior/sub-tk_ses-flicker1_task-flicker1_acq-0p93_run-03_log.txt\n",
      "/data/flicker/sourcedata/sub-tk/ses-flicker1/behavior/sub-tk.2019.05.29.18.56.01_events.tsv /data/flicker/sourcedata/sub-tk/ses-flicker1/behavior/sub-tk_ses-flicker1_task-flicker1_acq-0p93_run-04_events.tsv\n",
      "/data/flicker/sourcedata/sub-tk/ses-flicker1/behavior/sub-tk.2019.05.29.18.56.01_expsettings.yml /data/flicker/sourcedata/sub-tk/ses-flicker1/behavior/sub-tk_ses-flicker1_task-flicker1_acq-0p93_run-04_expsettings.yml\n",
      "/data/flicker/sourcedata/sub-tk/ses-flicker1/behavior/sub-tk.2019.05.29.18.56.01_frames.png /data/flicker/sourcedata/sub-tk/ses-flicker1/behavior/sub-tk_ses-flicker1_task-flicker1_acq-0p93_run-04_frames.png\n",
      "/data/flicker/sourcedata/sub-tk/ses-flicker1/behavior/sub-tk.2019.05.29.18.56.01_log.txt /data/flicker/sourcedata/sub-tk/ses-flicker1/behavior/sub-tk_ses-flicker1_task-flicker1_acq-0p93_run-04_log.txt\n",
      "/data/flicker/sourcedata/sub-tk/ses-flicker1/behavior/sub-tk.2019.05.29.19.02.50_events.tsv /data/flicker/sourcedata/sub-tk/ses-flicker1/behavior/sub-tk_ses-flicker1_task-flicker1_acq-0p93_run-05_events.tsv\n",
      "/data/flicker/sourcedata/sub-tk/ses-flicker1/behavior/sub-tk.2019.05.29.19.02.50_expsettings.yml /data/flicker/sourcedata/sub-tk/ses-flicker1/behavior/sub-tk_ses-flicker1_task-flicker1_acq-0p93_run-05_expsettings.yml\n",
      "/data/flicker/sourcedata/sub-tk/ses-flicker1/behavior/sub-tk.2019.05.29.19.02.50_frames.png /data/flicker/sourcedata/sub-tk/ses-flicker1/behavior/sub-tk_ses-flicker1_task-flicker1_acq-0p93_run-05_frames.png\n",
      "/data/flicker/sourcedata/sub-tk/ses-flicker1/behavior/sub-tk.2019.05.29.19.02.50_log.txt /data/flicker/sourcedata/sub-tk/ses-flicker1/behavior/sub-tk_ses-flicker1_task-flicker1_acq-0p93_run-05_log.txt\n"
     ]
    }
   ],
   "source": [
    "for ix, row in df.iterrows():\n",
    "    \n",
    "    new_fn = op.join(path, 'sub-tk_ses-flicker1_task-flicker1_acq-0p93_run-{run:02d}_{type}.{extension}'.format(**row.to_dict()))\n",
    "    print(row.fn, new_fn)\n",
    "    \n",
    "    shutil.move(row.fn, new_fn)"
   ]
  },
  {
   "cell_type": "code",
   "execution_count": 63,
   "metadata": {},
   "outputs": [],
   "source": [
    "fns = glob.glob(op.join(path, '*'))\n",
    "\n",
    "fns = [fn for fn in fns if not op.isdir(fn)]"
   ]
  },
  {
   "cell_type": "code",
   "execution_count": 64,
   "metadata": {},
   "outputs": [],
   "source": [
    "df = []\n",
    "\n",
    "for fn in fns:\n",
    "    if reg.match(fn):\n",
    "        d = reg.match(fn).groupdict()\n",
    "        d['fn'] = fn\n",
    "        df.append(d)"
   ]
  },
  {
   "cell_type": "code",
   "execution_count": 65,
   "metadata": {},
   "outputs": [],
   "source": [
    "df = pd.DataFrame(df)\n",
    "df['run'] = df['time'].apply(lambda x: df['time'].unique().tolist().index(x) + 1)"
   ]
  },
  {
   "cell_type": "code",
   "execution_count": 66,
   "metadata": {},
   "outputs": [
    {
     "data": {
      "text/html": [
       "<div>\n",
       "<style scoped>\n",
       "    .dataframe tbody tr th:only-of-type {\n",
       "        vertical-align: middle;\n",
       "    }\n",
       "\n",
       "    .dataframe tbody tr th {\n",
       "        vertical-align: top;\n",
       "    }\n",
       "\n",
       "    .dataframe thead th {\n",
       "        text-align: right;\n",
       "    }\n",
       "</style>\n",
       "<table border=\"1\" class=\"dataframe\">\n",
       "  <thead>\n",
       "    <tr style=\"text-align: right;\">\n",
       "      <th></th>\n",
       "      <th>extension</th>\n",
       "      <th>fn</th>\n",
       "      <th>time</th>\n",
       "      <th>type</th>\n",
       "      <th>run</th>\n",
       "    </tr>\n",
       "  </thead>\n",
       "  <tbody>\n",
       "    <tr>\n",
       "      <th>0</th>\n",
       "      <td>tsv</td>\n",
       "      <td>/data/flicker/sourcedata/sub-tk/ses-flicker1/b...</td>\n",
       "      <td>19.10.23</td>\n",
       "      <td>events</td>\n",
       "      <td>1</td>\n",
       "    </tr>\n",
       "    <tr>\n",
       "      <th>1</th>\n",
       "      <td>yml</td>\n",
       "      <td>/data/flicker/sourcedata/sub-tk/ses-flicker1/b...</td>\n",
       "      <td>19.10.23</td>\n",
       "      <td>expsettings</td>\n",
       "      <td>1</td>\n",
       "    </tr>\n",
       "    <tr>\n",
       "      <th>2</th>\n",
       "      <td>png</td>\n",
       "      <td>/data/flicker/sourcedata/sub-tk/ses-flicker1/b...</td>\n",
       "      <td>19.10.23</td>\n",
       "      <td>frames</td>\n",
       "      <td>1</td>\n",
       "    </tr>\n",
       "    <tr>\n",
       "      <th>3</th>\n",
       "      <td>txt</td>\n",
       "      <td>/data/flicker/sourcedata/sub-tk/ses-flicker1/b...</td>\n",
       "      <td>19.10.23</td>\n",
       "      <td>log</td>\n",
       "      <td>1</td>\n",
       "    </tr>\n",
       "    <tr>\n",
       "      <th>4</th>\n",
       "      <td>tsv</td>\n",
       "      <td>/data/flicker/sourcedata/sub-tk/ses-flicker1/b...</td>\n",
       "      <td>19.17.24</td>\n",
       "      <td>events</td>\n",
       "      <td>2</td>\n",
       "    </tr>\n",
       "    <tr>\n",
       "      <th>5</th>\n",
       "      <td>yml</td>\n",
       "      <td>/data/flicker/sourcedata/sub-tk/ses-flicker1/b...</td>\n",
       "      <td>19.17.24</td>\n",
       "      <td>expsettings</td>\n",
       "      <td>2</td>\n",
       "    </tr>\n",
       "    <tr>\n",
       "      <th>6</th>\n",
       "      <td>png</td>\n",
       "      <td>/data/flicker/sourcedata/sub-tk/ses-flicker1/b...</td>\n",
       "      <td>19.17.24</td>\n",
       "      <td>frames</td>\n",
       "      <td>2</td>\n",
       "    </tr>\n",
       "    <tr>\n",
       "      <th>7</th>\n",
       "      <td>txt</td>\n",
       "      <td>/data/flicker/sourcedata/sub-tk/ses-flicker1/b...</td>\n",
       "      <td>19.17.24</td>\n",
       "      <td>log</td>\n",
       "      <td>2</td>\n",
       "    </tr>\n",
       "    <tr>\n",
       "      <th>8</th>\n",
       "      <td>tsv</td>\n",
       "      <td>/data/flicker/sourcedata/sub-tk/ses-flicker1/b...</td>\n",
       "      <td>19.24.06</td>\n",
       "      <td>events</td>\n",
       "      <td>3</td>\n",
       "    </tr>\n",
       "    <tr>\n",
       "      <th>9</th>\n",
       "      <td>yml</td>\n",
       "      <td>/data/flicker/sourcedata/sub-tk/ses-flicker1/b...</td>\n",
       "      <td>19.24.06</td>\n",
       "      <td>expsettings</td>\n",
       "      <td>3</td>\n",
       "    </tr>\n",
       "    <tr>\n",
       "      <th>10</th>\n",
       "      <td>png</td>\n",
       "      <td>/data/flicker/sourcedata/sub-tk/ses-flicker1/b...</td>\n",
       "      <td>19.24.06</td>\n",
       "      <td>frames</td>\n",
       "      <td>3</td>\n",
       "    </tr>\n",
       "    <tr>\n",
       "      <th>11</th>\n",
       "      <td>txt</td>\n",
       "      <td>/data/flicker/sourcedata/sub-tk/ses-flicker1/b...</td>\n",
       "      <td>19.24.06</td>\n",
       "      <td>log</td>\n",
       "      <td>3</td>\n",
       "    </tr>\n",
       "  </tbody>\n",
       "</table>\n",
       "</div>"
      ],
      "text/plain": [
       "   extension                                                 fn      time  \\\n",
       "0        tsv  /data/flicker/sourcedata/sub-tk/ses-flicker1/b...  19.10.23   \n",
       "1        yml  /data/flicker/sourcedata/sub-tk/ses-flicker1/b...  19.10.23   \n",
       "2        png  /data/flicker/sourcedata/sub-tk/ses-flicker1/b...  19.10.23   \n",
       "3        txt  /data/flicker/sourcedata/sub-tk/ses-flicker1/b...  19.10.23   \n",
       "4        tsv  /data/flicker/sourcedata/sub-tk/ses-flicker1/b...  19.17.24   \n",
       "5        yml  /data/flicker/sourcedata/sub-tk/ses-flicker1/b...  19.17.24   \n",
       "6        png  /data/flicker/sourcedata/sub-tk/ses-flicker1/b...  19.17.24   \n",
       "7        txt  /data/flicker/sourcedata/sub-tk/ses-flicker1/b...  19.17.24   \n",
       "8        tsv  /data/flicker/sourcedata/sub-tk/ses-flicker1/b...  19.24.06   \n",
       "9        yml  /data/flicker/sourcedata/sub-tk/ses-flicker1/b...  19.24.06   \n",
       "10       png  /data/flicker/sourcedata/sub-tk/ses-flicker1/b...  19.24.06   \n",
       "11       txt  /data/flicker/sourcedata/sub-tk/ses-flicker1/b...  19.24.06   \n",
       "\n",
       "           type  run  \n",
       "0        events    1  \n",
       "1   expsettings    1  \n",
       "2        frames    1  \n",
       "3           log    1  \n",
       "4        events    2  \n",
       "5   expsettings    2  \n",
       "6        frames    2  \n",
       "7           log    2  \n",
       "8        events    3  \n",
       "9   expsettings    3  \n",
       "10       frames    3  \n",
       "11          log    3  "
      ]
     },
     "execution_count": 66,
     "metadata": {},
     "output_type": "execute_result"
    }
   ],
   "source": [
    "df"
   ]
  },
  {
   "cell_type": "code",
   "execution_count": 67,
   "metadata": {},
   "outputs": [
    {
     "name": "stdout",
     "output_type": "stream",
     "text": [
      "/data/flicker/sourcedata/sub-tk/ses-flicker1/behavior/sub-tk.2019.05.29.19.10.23_events.tsv /data/flicker/sourcedata/sub-tk/ses-flicker1/behavior/sub-tk_ses-flicker1_task-flicker1_acq-0p70_run-01_events.tsv\n",
      "/data/flicker/sourcedata/sub-tk/ses-flicker1/behavior/sub-tk.2019.05.29.19.10.23_expsettings.yml /data/flicker/sourcedata/sub-tk/ses-flicker1/behavior/sub-tk_ses-flicker1_task-flicker1_acq-0p70_run-01_expsettings.yml\n",
      "/data/flicker/sourcedata/sub-tk/ses-flicker1/behavior/sub-tk.2019.05.29.19.10.23_frames.png /data/flicker/sourcedata/sub-tk/ses-flicker1/behavior/sub-tk_ses-flicker1_task-flicker1_acq-0p70_run-01_frames.png\n",
      "/data/flicker/sourcedata/sub-tk/ses-flicker1/behavior/sub-tk.2019.05.29.19.10.23_log.txt /data/flicker/sourcedata/sub-tk/ses-flicker1/behavior/sub-tk_ses-flicker1_task-flicker1_acq-0p70_run-01_log.txt\n",
      "/data/flicker/sourcedata/sub-tk/ses-flicker1/behavior/sub-tk.2019.05.29.19.17.24_events.tsv /data/flicker/sourcedata/sub-tk/ses-flicker1/behavior/sub-tk_ses-flicker1_task-flicker1_acq-0p70_run-02_events.tsv\n",
      "/data/flicker/sourcedata/sub-tk/ses-flicker1/behavior/sub-tk.2019.05.29.19.17.24_expsettings.yml /data/flicker/sourcedata/sub-tk/ses-flicker1/behavior/sub-tk_ses-flicker1_task-flicker1_acq-0p70_run-02_expsettings.yml\n",
      "/data/flicker/sourcedata/sub-tk/ses-flicker1/behavior/sub-tk.2019.05.29.19.17.24_frames.png /data/flicker/sourcedata/sub-tk/ses-flicker1/behavior/sub-tk_ses-flicker1_task-flicker1_acq-0p70_run-02_frames.png\n",
      "/data/flicker/sourcedata/sub-tk/ses-flicker1/behavior/sub-tk.2019.05.29.19.17.24_log.txt /data/flicker/sourcedata/sub-tk/ses-flicker1/behavior/sub-tk_ses-flicker1_task-flicker1_acq-0p70_run-02_log.txt\n",
      "/data/flicker/sourcedata/sub-tk/ses-flicker1/behavior/sub-tk.2019.05.29.19.24.06_events.tsv /data/flicker/sourcedata/sub-tk/ses-flicker1/behavior/sub-tk_ses-flicker1_task-flicker1_acq-0p70_run-03_events.tsv\n",
      "/data/flicker/sourcedata/sub-tk/ses-flicker1/behavior/sub-tk.2019.05.29.19.24.06_expsettings.yml /data/flicker/sourcedata/sub-tk/ses-flicker1/behavior/sub-tk_ses-flicker1_task-flicker1_acq-0p70_run-03_expsettings.yml\n",
      "/data/flicker/sourcedata/sub-tk/ses-flicker1/behavior/sub-tk.2019.05.29.19.24.06_frames.png /data/flicker/sourcedata/sub-tk/ses-flicker1/behavior/sub-tk_ses-flicker1_task-flicker1_acq-0p70_run-03_frames.png\n",
      "/data/flicker/sourcedata/sub-tk/ses-flicker1/behavior/sub-tk.2019.05.29.19.24.06_log.txt /data/flicker/sourcedata/sub-tk/ses-flicker1/behavior/sub-tk_ses-flicker1_task-flicker1_acq-0p70_run-03_log.txt\n"
     ]
    }
   ],
   "source": [
    "for ix, row in df.iterrows():\n",
    "    \n",
    "    new_fn = op.join(path, 'sub-tk_ses-flicker1_task-flicker1_acq-0p70_run-{run:02d}_{type}.{extension}'.format(**row.to_dict()))\n",
    "    print(row.fn, new_fn)\n",
    "    \n",
    "    shutil.move(row.fn, new_fn)"
   ]
  },
  {
   "cell_type": "code",
   "execution_count": null,
   "metadata": {},
   "outputs": [],
   "source": []
  }
 ],
 "metadata": {
  "kernelspec": {
   "display_name": "Python 3",
   "language": "python",
   "name": "python3"
  },
  "language_info": {
   "codemirror_mode": {
    "name": "ipython",
    "version": 3
   },
   "file_extension": ".py",
   "mimetype": "text/x-python",
   "name": "python",
   "nbconvert_exporter": "python",
   "pygments_lexer": "ipython3",
   "version": "3.7.2"
  }
 },
 "nbformat": 4,
 "nbformat_minor": 2
}
